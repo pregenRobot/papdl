{
 "cells": [
  {
   "cell_type": "code",
   "execution_count": 56,
   "metadata": {},
   "outputs": [],
   "source": [
    "from keras.datasets import cifar10\n",
    "from keras.applications import vgg16\n",
    "from random import randint\n",
    "import requests\n",
    "import numpy as np\n",
    "import io\n",
    "import sys\n",
    "import matplotlib.pyplot as plt\n",
    "from keras.utils.image_utils import load_img,img_to_array\n",
    "import matplotlib.pyplot as plt\n",
    "\n",
    "\n",
    "def load_data(images):\n",
    "    result = []\n",
    "    \n",
    "    for filename in images:\n",
    "        image = load_img(filename,target_size=(224,224))\n",
    "        result.append((image, img_to_array(image)))\n",
    "    return result\n",
    "        \n",
    "\n",
    "dataset = load_data([\"images/airplane.jpg\",\"images/cat.png\",\"images/dog.jpg\", \"images/ship.jpg\"])\n",
    "\n",
    "len(dataset)\n",
    "\n",
    "model = vgg16.VGG16()\n",
    "\n",
    "\n",
    "def predict(dataset):\n",
    "    for i,(image,sample) in enumerate(dataset):\n",
    "        input = sample.reshape((-1,224,224,3))\n",
    "        output = model.predict(input)\n",
    "        pred = vgg16.decode_predictions(output,top=1)\n",
    "        display(image)\n",
    "        print(pred)\n",
    "        \n",
    "predict(dataset)"
   ]
  }
 ],
 "metadata": {
  "kernelspec": {
   "display_name": "Python 3",
   "language": "python",
   "name": "python3"
  },
  "language_info": {
   "codemirror_mode": {
    "name": "ipython",
    "version": 3
   },
   "file_extension": ".py",
   "mimetype": "text/x-python",
   "name": "python",
   "nbconvert_exporter": "python",
   "pygments_lexer": "ipython3",
   "version": "3.9.14"
  },
  "orig_nbformat": 4
 },
 "nbformat": 4,
 "nbformat_minor": 2
}
